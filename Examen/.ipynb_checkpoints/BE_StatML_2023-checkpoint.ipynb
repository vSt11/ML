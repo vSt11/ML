{
 "cells": [
  {
   "cell_type": "markdown",
   "metadata": {},
   "source": [
    "# BE noté -- Fondations statistiques du Machine Learning\n",
    "\n",
    "Cet devoir noté est composé de deux exercices. Il sera idéalement réalisé en binome et éventuellement seul. Les réponses seront données dans un notebook qui indiquera clairement les **noms et prénoms des élèves** l'ayant realisé.\n"
   ]
  },
  {
   "cell_type": "markdown",
   "metadata": {},
   "source": [
    "## Exercice 1\n",
    "\n",
    "Nous souhaitons évaluer si un nouveau produit a un effet significatif sur le rendement de moteurs. Pour y répondre, ce rendement (*Efficiency*) a été mesuré sur deux types de moteurs (*Brand_1* et *Brand_2*) et en testant différents niveaux de concentration (*Concentration*) du produit. Les observations sont dans le fichier *Efficiency_Observations.csv* A l'aide de modèles de régression linéaire et de tests statistiques, nous allons alors évaluer :\n",
    "- Le produit semble-t-il avoir un effet ?\n",
    "- Cet effet est-il différent en fonction de la marque du moteur ?\n",
    "- Cet effet dépend-il de la concentration du produit ?\n",
    "\n",
    "Afin de résoudre le problème, deux hypothèses seront effectuées :\n",
    "- Pour chaque marque de moteur, la relation entre la concentration et le rendement est supposée linéaire.\n",
    "- La distribution des erreurs de ce modèle est supposée suivre une loi Normale centrée.\n",
    "\n",
    "\n",
    "La démarche pour répondre à ces questions sera commentée dans le notebook rendu, quels qu'en soient ses résultats.\n",
    "\n",
    "\n",
    "Conseil : Avant de définir une stratégie de résolution, il est recommandé de visualiser les données de *Efficiency_Observations.csv* en distinguant bien les observations obtenues dans les groupes *Brand_1* et *Brand_2*.\n",
    "\n"
   ]
  },
  {
   "cell_type": "code",
   "execution_count": null,
   "metadata": {},
   "outputs": [],
   "source": [
    "import pandas\n",
    "import numpy as np\n",
    "import matplotlib.pyplot as plt\n",
    "\n",
    "\n",
    "dataframe=pandas.read_csv(\"./Efficiency_Observations.csv\",sep=',')"
   ]
  },
  {
   "cell_type": "code",
   "execution_count": null,
   "metadata": {},
   "outputs": [],
   "source": []
  },
  {
   "cell_type": "code",
   "execution_count": null,
   "metadata": {},
   "outputs": [],
   "source": []
  },
  {
   "cell_type": "markdown",
   "metadata": {},
   "source": [
    "## Exercice 2\n",
    "\n",
    "\n",
    "Nous souhaitons développer une méthode d'apprentissage automatique qui quantifie en temps réel le risque de collision d'un drone avec des objets environnants.\n",
    "\n",
    "Pour y arriver, nous avons embarqué 18 capteurs sur un drone en phase de test et estimé à plusieurs instants son risque de collision avec un autre objet. Un total de 67 observations labellisées ont été enregistrées dans le fichier *Drone_observations.csv*.\n",
    "\n",
    "Nous allons évaluer dans cet exercice si ces observations nous permettent de mettre en lien les données capteurs avec le niveau de risque. Nous allons aussi évaluer si nous aurions une bonne performance avec un sous-ensemble pertinent des capteurs. Chaque capteur a en effet un poids non négligeable et a besoin d'énergie pour fonctionner, ce qui a un impact sur le temps d'utilisation du drone entre deux rechargements de ses batteries.  "
   ]
  },
  {
   "cell_type": "code",
   "execution_count": null,
   "metadata": {},
   "outputs": [],
   "source": [
    "import pandas\n",
    "import numpy as np\n",
    "import matplotlib.pyplot as plt\n",
    "from sklearn import preprocessing\n",
    "\n",
    "\n",
    "\n",
    "dataframe=pandas.read_csv(\"./Drone_observations.csv\",sep=';')\n",
    "\n",
    "listColNames=list(dataframe.columns)\n",
    "\n",
    "\n",
    "XY=dataframe.values\n",
    "ColNb_Y=listColNames.index('Risk_level')\n",
    "\n",
    "\n",
    "Y=XY[:,ColNb_Y].reshape((XY.shape[0],1))   #reshape is to make sure that Y is a column vector\n",
    "X = np.delete(XY, ColNb_Y, 1)\n",
    "\n",
    "listColNames.pop(ColNb_Y)     #to make it contains the column names of X only\n",
    "\n",
    "\n",
    "for Col in range(len(listColNames)):\n",
    "  plt.plot(X[:,Col],Y[:],'.')\n",
    "  plt.xlabel(listColNames[Col])\n",
    "  plt.ylabel('Risk_level')\n",
    "  plt.show()\n"
   ]
  },
  {
   "cell_type": "markdown",
   "metadata": {},
   "source": [
    "\n",
    "### QUESTION 2.1\n",
    "\n",
    "Observez les données unes par unes. Identifiez-vous visuellement des liens entre certaines variables et la variable *Risk_level*. Si oui, lesquels ?\n"
   ]
  },
  {
   "cell_type": "code",
   "execution_count": null,
   "metadata": {},
   "outputs": [],
   "source": []
  },
  {
   "cell_type": "markdown",
   "metadata": {},
   "source": [
    "\n",
    "### QUESTION 2.2\n",
    "On se demande si il est possible de prédire le niveau de *Risk_level* à partir d'**une seule** des variables *Feature_01*, *Feature_07* ou *Feature_16*.\n",
    "\n",
    "\n",
    "#### QUESTION 2.2.1\n",
    "Effectuez une regression linéaire simple entre 'Risk_level' et chacune de ces variables.  Toutes les données seront utilisées pour l'apprentissage. Evaluez alors la qualité des prédictions sur toutes les observations en mesurant l'erreur de prédiction au carré moyenne (MSE). Quel est le risque potentiel en mesurant la qualité des prédictions sur le jeu d'apprentissage ?\n",
    "\n",
    "#### QUESTION 2.2.2\n",
    "En utilisant une méthode de validation croisée de type 4-folds, pouvez-vous dire laquelle de ces trois variables semble être la plus fiable pour prédire le risque à l'aide d'un modèle linéaire ?\n",
    "\n",
    "\n",
    "#### QUESTION 2.2.3\n",
    "Peut-on statistiquement affirmer qu'il existe une relation significative entre *Risk_level* et (indépendament) *Feature_01*, *Feature_07* ou bien *Feature_16* ? Si oui, décrivez votre procédure de test.\n"
   ]
  },
  {
   "cell_type": "code",
   "execution_count": null,
   "metadata": {},
   "outputs": [],
   "source": []
  },
  {
   "cell_type": "markdown",
   "metadata": {},
   "source": [
    "\n",
    "### QUESTION 2.3\n",
    "On s'intéresse maintenant au lien entre les variables *Risk_level* et *Feature_12*. On peut remarquer qu'il semble exister une relation linéaire entre ces variables, mais que les données contiennent aussi deux valeurs aberrantes.\n",
    "\n",
    "\n",
    "#### QUESTION 2.3.1\n",
    "\n",
    "Définissez une procédure pour détecter automatiquement les deux données aberrantes dans un jeu de données. Cette procédure fera l'hypothèse que 10\\% des observations peuvent ne pas être fiables.\n",
    "\n",
    "#### QUESTION 2.3.2\n",
    "\n",
    "Nous supprimerons dans la suite de cet exercice les deux observations qui sont aberrantes sur la variable *Feature_12*. Comment auriez-vous traité ces observations si vous aviez voulu préserver l'information qu'elles contiennent dans les autres variables ?\n"
   ]
  },
  {
   "cell_type": "code",
   "execution_count": null,
   "metadata": {},
   "outputs": [],
   "source": []
  },
  {
   "cell_type": "markdown",
   "metadata": {},
   "source": [
    "\n",
    "### QUESTION 2.4\n",
    "\n",
    "Parmis les 18 variables observées, on souhaite maintenant sélectionner automatiquement celles qui nous permettraient de prédire au mieux *Risk_level* à l'aide de la régression multiple avec un terme de régularisation. Décrivez votre démarche et vos résultats. En particulier, le compromis à trouver entre nombre de variables sélectionnées et qualité de prédiction pourra être discuté.\n",
    "\n"
   ]
  },
  {
   "cell_type": "code",
   "execution_count": null,
   "metadata": {},
   "outputs": [],
   "source": []
  },
  {
   "cell_type": "code",
   "execution_count": null,
   "metadata": {},
   "outputs": [],
   "source": []
  }
 ],
 "metadata": {
  "kernelspec": {
   "display_name": "Python 3 (ipykernel)",
   "language": "python",
   "name": "python3"
  },
  "language_info": {
   "codemirror_mode": {
    "name": "ipython",
    "version": 3
   },
   "file_extension": ".py",
   "mimetype": "text/x-python",
   "name": "python",
   "nbconvert_exporter": "python",
   "pygments_lexer": "ipython3",
   "version": "3.8.10"
  }
 },
 "nbformat": 4,
 "nbformat_minor": 4
}
