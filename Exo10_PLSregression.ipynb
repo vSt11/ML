{
 "cells": [
  {
   "cell_type": "markdown",
   "metadata": {},
   "source": [
    "## EXERCICE 10 : PLS\n",
    "\n",
    "inspire de http://scikit-learn.org/stable/auto_examples/cross_decomposition/plot_compare_cross_decomposition.html\n"
   ]
  },
  {
   "cell_type": "code",
   "execution_count": null,
   "metadata": {},
   "outputs": [],
   "source": [
    "import numpy as np\n",
    "from numpy import random\n",
    "\n",
    "import matplotlib.pyplot as plt\n",
    "from sklearn.cross_decomposition import PLSRegression\n"
   ]
  },
  {
   "cell_type": "markdown",
   "metadata": {},
   "source": [
    "### Partie 1 : regression PLS avec reponse univariee (PLS1)\n"
   ]
  },
  {
   "cell_type": "code",
   "execution_count": null,
   "metadata": {},
   "outputs": [],
   "source": [
    "#On va supposer que l'on veut mettre en lien les notes d'étudiants dans différentes \n",
    "#matières (notes) à celles obtenus par les mêmes étudiants à un concours en fin d'année (y)\n",
    "\n",
    "#GENERATION DE DONNEES SIMULEES\n",
    "n = 500\n",
    "p = 7\n",
    "\n",
    "cov=np.array(\n",
    "[[0.2 , 0.5  , 0.5 , 0   , 0   , 0.  , 0  ],\n",
    "[0.5  , 0.2  , 0.5 , 0   , 0   , 0   , 0.],\n",
    "[0.5  , 0.5  , 0.2  , 0.  , 0   , 0   , 0  ],\n",
    "[0.   , 0    , 0.  , 1.2 , 0.8 , 0   , 0  ],\n",
    "[0.   , 0    , 0   , 0.8 , 1.5 , 0   , 0  ],\n",
    "[0.   , 0    , 0   , 0   , 0   , 0.2  , 0.9],\n",
    "[0.   , 0.0  , 0   , 0   , 0   , 0.9 , 0.2]]\n",
    ")\n",
    "\n",
    "mean = np.array([12,11,13,12,10,9,8.])\n",
    "\n",
    "notes=np.round(random.multivariate_normal(mean, 4*cov, size=n),1)\n",
    "\n",
    "notes[notes<0.]=0.\n",
    "notes[notes>20.]=20.\n",
    "\n",
    "theta=np.array([0.5,0.00,0.0,0.00,0.00,0.25,0.25])\n",
    "y = np.round(np.dot(notes,theta.reshape(-1,1)) + np.random.normal(size=n).reshape(-1,1),1)\n",
    "           \n",
    "print(notes)\n",
    "print(y.transpose())\n",
    "     \n",
    "    \n"
   ]
  },
  {
   "cell_type": "markdown",
   "metadata": {},
   "source": [
    "##### QUESTION 1: \n",
    "- Comment sont construites les donnees simulees ? \n",
    "- Que vous attendez-vous a voir dans la PLS\n"
   ]
  },
  {
   "cell_type": "code",
   "execution_count": null,
   "metadata": {},
   "outputs": [],
   "source": [
    "\n",
    "pls1 = PLSRegression(n_components=7)\n",
    "pls1.fit(notes, y)\n",
    "\n"
   ]
  },
  {
   "cell_type": "markdown",
   "metadata": {},
   "source": [
    "##### QUESTION 2 : \n",
    "- Quelle est la signification de pls1.x_rotations_. \n",
    "- Comment interpretez vous ses valeurs ?\n"
   ]
  },
  {
   "cell_type": "markdown",
   "metadata": {},
   "source": [
    "##### QUESTION 3 : \n",
    "- Observez les projections de X sur les deux premiers axes de pls1.x_rotations_ . \n",
    "- Pouvez-vous definir des profils etudiants a partir de cette projection de X ?\n"
   ]
  },
  {
   "cell_type": "code",
   "execution_count": null,
   "metadata": {},
   "outputs": [],
   "source": []
  },
  {
   "cell_type": "code",
   "execution_count": null,
   "metadata": {},
   "outputs": [],
   "source": []
  }
 ],
 "metadata": {
  "anaconda-cloud": {},
  "kernelspec": {
   "display_name": "Python 3 (ipykernel)",
   "language": "python",
   "name": "python3"
  },
  "language_info": {
   "codemirror_mode": {
    "name": "ipython",
    "version": 3
   },
   "file_extension": ".py",
   "mimetype": "text/x-python",
   "name": "python",
   "nbconvert_exporter": "python",
   "pygments_lexer": "ipython3",
   "version": "3.9.13"
  }
 },
 "nbformat": 4,
 "nbformat_minor": 4
}
