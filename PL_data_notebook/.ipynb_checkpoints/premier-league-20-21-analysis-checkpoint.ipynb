{
 "cells": [
  {
   "cell_type": "code",
   "execution_count": 2,
   "metadata": {
    "execution": {
     "iopub.execute_input": "2023-10-08T00:19:48.910234Z",
     "iopub.status.busy": "2023-10-08T00:19:48.909920Z",
     "iopub.status.idle": "2023-10-08T00:19:50.931026Z",
     "shell.execute_reply": "2023-10-08T00:19:50.930037Z",
     "shell.execute_reply.started": "2023-10-08T00:19:48.910207Z"
    }
   },
   "outputs": [
    {
     "name": "stdout",
     "output_type": "stream",
     "text": [
      "Collecting seaborn\n",
      "  Downloading seaborn-0.13.0-py3-none-any.whl (294 kB)\n",
      "\u001b[K     |████████████████████████████████| 294 kB 5.7 kB/s eta 0:00:02\n",
      "\u001b[?25hRequirement already satisfied: pandas>=1.2 in /home/raphi/.local/lib/python3.8/site-packages (from seaborn) (2.0.3)\n",
      "Requirement already satisfied: matplotlib!=3.6.1,>=3.3 in /home/raphi/.local/lib/python3.8/site-packages (from seaborn) (3.5.1)\n",
      "Requirement already satisfied: numpy!=1.24.0,>=1.20 in /home/raphi/.local/lib/python3.8/site-packages (from seaborn) (1.21.5)\n",
      "Requirement already satisfied: pytz>=2020.1 in /home/raphi/.local/lib/python3.8/site-packages (from pandas>=1.2->seaborn) (2022.6)\n",
      "Requirement already satisfied: python-dateutil>=2.8.2 in /home/raphi/.local/lib/python3.8/site-packages (from pandas>=1.2->seaborn) (2.8.2)\n",
      "Requirement already satisfied: tzdata>=2022.1 in /home/raphi/.local/lib/python3.8/site-packages (from pandas>=1.2->seaborn) (2022.7)\n",
      "Requirement already satisfied: pillow>=6.2.0 in /home/raphi/.local/lib/python3.8/site-packages (from matplotlib!=3.6.1,>=3.3->seaborn) (9.0.0)\n",
      "Requirement already satisfied: fonttools>=4.22.0 in /home/raphi/.local/lib/python3.8/site-packages (from matplotlib!=3.6.1,>=3.3->seaborn) (4.39.3)\n",
      "Requirement already satisfied: pyparsing>=2.2.1 in /home/raphi/.local/lib/python3.8/site-packages (from matplotlib!=3.6.1,>=3.3->seaborn) (3.0.9)\n",
      "Requirement already satisfied: packaging>=20.0 in /home/raphi/.local/lib/python3.8/site-packages (from matplotlib!=3.6.1,>=3.3->seaborn) (21.3)\n",
      "Requirement already satisfied: cycler>=0.10 in /home/raphi/.local/lib/python3.8/site-packages (from matplotlib!=3.6.1,>=3.3->seaborn) (0.11.0)\n",
      "Requirement already satisfied: kiwisolver>=1.0.1 in /home/raphi/.local/lib/python3.8/site-packages (from matplotlib!=3.6.1,>=3.3->seaborn) (1.4.4)\n",
      "Requirement already satisfied: six>=1.5 in /usr/lib/python3/dist-packages (from python-dateutil>=2.8.2->pandas>=1.2->seaborn) (1.14.0)\n",
      "Installing collected packages: seaborn\n",
      "Successfully installed seaborn-0.13.0\n"
     ]
    }
   ],
   "source": [
    "!pip install seaborn\n",
    "import numpy as np\n",
    "import pandas as pd\n",
    "import matplotlib.pyplot as plt\n",
    "import seaborn as sns"
   ]
  },
  {
   "cell_type": "code",
   "execution_count": 2,
   "metadata": {
    "execution": {
     "iopub.execute_input": "2023-10-08T00:19:57.024210Z",
     "iopub.status.busy": "2023-10-08T00:19:57.023701Z",
     "iopub.status.idle": "2023-10-08T00:19:57.712101Z",
     "shell.execute_reply": "2023-10-08T00:19:57.710386Z",
     "shell.execute_reply.started": "2023-10-08T00:19:57.024179Z"
    }
   },
   "outputs": [
    {
     "ename": "FileNotFoundError",
     "evalue": "[Errno 2] No such file or directory: 'E:/Asta/Projects/EPL-Data-Analysis-Project-main/EPL_20_21.csv'",
     "output_type": "error",
     "traceback": [
      "\u001b[0;31m---------------------------------------------------------------------------\u001b[0m",
      "\u001b[0;31mFileNotFoundError\u001b[0m                         Traceback (most recent call last)",
      "Cell \u001b[0;32mIn[2], line 1\u001b[0m\n\u001b[0;32m----> 1\u001b[0m df \u001b[38;5;241m=\u001b[39m \u001b[43mpd\u001b[49m\u001b[38;5;241;43m.\u001b[39;49m\u001b[43mread_csv\u001b[49m\u001b[43m(\u001b[49m\u001b[38;5;124;43mr\u001b[39;49m\u001b[38;5;124;43m'\u001b[39;49m\u001b[38;5;124;43mE:/Asta/Projects/EPL-Data-Analysis-Project-main/EPL_20_21.csv\u001b[39;49m\u001b[38;5;124;43m'\u001b[39;49m\u001b[43m)\u001b[49m\n",
      "File \u001b[0;32m/opt/conda/lib/python3.10/site-packages/pandas/io/parsers/readers.py:912\u001b[0m, in \u001b[0;36mread_csv\u001b[0;34m(filepath_or_buffer, sep, delimiter, header, names, index_col, usecols, dtype, engine, converters, true_values, false_values, skipinitialspace, skiprows, skipfooter, nrows, na_values, keep_default_na, na_filter, verbose, skip_blank_lines, parse_dates, infer_datetime_format, keep_date_col, date_parser, date_format, dayfirst, cache_dates, iterator, chunksize, compression, thousands, decimal, lineterminator, quotechar, quoting, doublequote, escapechar, comment, encoding, encoding_errors, dialect, on_bad_lines, delim_whitespace, low_memory, memory_map, float_precision, storage_options, dtype_backend)\u001b[0m\n\u001b[1;32m    899\u001b[0m kwds_defaults \u001b[38;5;241m=\u001b[39m _refine_defaults_read(\n\u001b[1;32m    900\u001b[0m     dialect,\n\u001b[1;32m    901\u001b[0m     delimiter,\n\u001b[0;32m   (...)\u001b[0m\n\u001b[1;32m    908\u001b[0m     dtype_backend\u001b[38;5;241m=\u001b[39mdtype_backend,\n\u001b[1;32m    909\u001b[0m )\n\u001b[1;32m    910\u001b[0m kwds\u001b[38;5;241m.\u001b[39mupdate(kwds_defaults)\n\u001b[0;32m--> 912\u001b[0m \u001b[38;5;28;01mreturn\u001b[39;00m \u001b[43m_read\u001b[49m\u001b[43m(\u001b[49m\u001b[43mfilepath_or_buffer\u001b[49m\u001b[43m,\u001b[49m\u001b[43m \u001b[49m\u001b[43mkwds\u001b[49m\u001b[43m)\u001b[49m\n",
      "File \u001b[0;32m/opt/conda/lib/python3.10/site-packages/pandas/io/parsers/readers.py:577\u001b[0m, in \u001b[0;36m_read\u001b[0;34m(filepath_or_buffer, kwds)\u001b[0m\n\u001b[1;32m    574\u001b[0m _validate_names(kwds\u001b[38;5;241m.\u001b[39mget(\u001b[38;5;124m\"\u001b[39m\u001b[38;5;124mnames\u001b[39m\u001b[38;5;124m\"\u001b[39m, \u001b[38;5;28;01mNone\u001b[39;00m))\n\u001b[1;32m    576\u001b[0m \u001b[38;5;66;03m# Create the parser.\u001b[39;00m\n\u001b[0;32m--> 577\u001b[0m parser \u001b[38;5;241m=\u001b[39m \u001b[43mTextFileReader\u001b[49m\u001b[43m(\u001b[49m\u001b[43mfilepath_or_buffer\u001b[49m\u001b[43m,\u001b[49m\u001b[43m \u001b[49m\u001b[38;5;241;43m*\u001b[39;49m\u001b[38;5;241;43m*\u001b[39;49m\u001b[43mkwds\u001b[49m\u001b[43m)\u001b[49m\n\u001b[1;32m    579\u001b[0m \u001b[38;5;28;01mif\u001b[39;00m chunksize \u001b[38;5;129;01mor\u001b[39;00m iterator:\n\u001b[1;32m    580\u001b[0m     \u001b[38;5;28;01mreturn\u001b[39;00m parser\n",
      "File \u001b[0;32m/opt/conda/lib/python3.10/site-packages/pandas/io/parsers/readers.py:1407\u001b[0m, in \u001b[0;36mTextFileReader.__init__\u001b[0;34m(self, f, engine, **kwds)\u001b[0m\n\u001b[1;32m   1404\u001b[0m     \u001b[38;5;28mself\u001b[39m\u001b[38;5;241m.\u001b[39moptions[\u001b[38;5;124m\"\u001b[39m\u001b[38;5;124mhas_index_names\u001b[39m\u001b[38;5;124m\"\u001b[39m] \u001b[38;5;241m=\u001b[39m kwds[\u001b[38;5;124m\"\u001b[39m\u001b[38;5;124mhas_index_names\u001b[39m\u001b[38;5;124m\"\u001b[39m]\n\u001b[1;32m   1406\u001b[0m \u001b[38;5;28mself\u001b[39m\u001b[38;5;241m.\u001b[39mhandles: IOHandles \u001b[38;5;241m|\u001b[39m \u001b[38;5;28;01mNone\u001b[39;00m \u001b[38;5;241m=\u001b[39m \u001b[38;5;28;01mNone\u001b[39;00m\n\u001b[0;32m-> 1407\u001b[0m \u001b[38;5;28mself\u001b[39m\u001b[38;5;241m.\u001b[39m_engine \u001b[38;5;241m=\u001b[39m \u001b[38;5;28;43mself\u001b[39;49m\u001b[38;5;241;43m.\u001b[39;49m\u001b[43m_make_engine\u001b[49m\u001b[43m(\u001b[49m\u001b[43mf\u001b[49m\u001b[43m,\u001b[49m\u001b[43m \u001b[49m\u001b[38;5;28;43mself\u001b[39;49m\u001b[38;5;241;43m.\u001b[39;49m\u001b[43mengine\u001b[49m\u001b[43m)\u001b[49m\n",
      "File \u001b[0;32m/opt/conda/lib/python3.10/site-packages/pandas/io/parsers/readers.py:1661\u001b[0m, in \u001b[0;36mTextFileReader._make_engine\u001b[0;34m(self, f, engine)\u001b[0m\n\u001b[1;32m   1659\u001b[0m     \u001b[38;5;28;01mif\u001b[39;00m \u001b[38;5;124m\"\u001b[39m\u001b[38;5;124mb\u001b[39m\u001b[38;5;124m\"\u001b[39m \u001b[38;5;129;01mnot\u001b[39;00m \u001b[38;5;129;01min\u001b[39;00m mode:\n\u001b[1;32m   1660\u001b[0m         mode \u001b[38;5;241m+\u001b[39m\u001b[38;5;241m=\u001b[39m \u001b[38;5;124m\"\u001b[39m\u001b[38;5;124mb\u001b[39m\u001b[38;5;124m\"\u001b[39m\n\u001b[0;32m-> 1661\u001b[0m \u001b[38;5;28mself\u001b[39m\u001b[38;5;241m.\u001b[39mhandles \u001b[38;5;241m=\u001b[39m \u001b[43mget_handle\u001b[49m\u001b[43m(\u001b[49m\n\u001b[1;32m   1662\u001b[0m \u001b[43m    \u001b[49m\u001b[43mf\u001b[49m\u001b[43m,\u001b[49m\n\u001b[1;32m   1663\u001b[0m \u001b[43m    \u001b[49m\u001b[43mmode\u001b[49m\u001b[43m,\u001b[49m\n\u001b[1;32m   1664\u001b[0m \u001b[43m    \u001b[49m\u001b[43mencoding\u001b[49m\u001b[38;5;241;43m=\u001b[39;49m\u001b[38;5;28;43mself\u001b[39;49m\u001b[38;5;241;43m.\u001b[39;49m\u001b[43moptions\u001b[49m\u001b[38;5;241;43m.\u001b[39;49m\u001b[43mget\u001b[49m\u001b[43m(\u001b[49m\u001b[38;5;124;43m\"\u001b[39;49m\u001b[38;5;124;43mencoding\u001b[39;49m\u001b[38;5;124;43m\"\u001b[39;49m\u001b[43m,\u001b[49m\u001b[43m \u001b[49m\u001b[38;5;28;43;01mNone\u001b[39;49;00m\u001b[43m)\u001b[49m\u001b[43m,\u001b[49m\n\u001b[1;32m   1665\u001b[0m \u001b[43m    \u001b[49m\u001b[43mcompression\u001b[49m\u001b[38;5;241;43m=\u001b[39;49m\u001b[38;5;28;43mself\u001b[39;49m\u001b[38;5;241;43m.\u001b[39;49m\u001b[43moptions\u001b[49m\u001b[38;5;241;43m.\u001b[39;49m\u001b[43mget\u001b[49m\u001b[43m(\u001b[49m\u001b[38;5;124;43m\"\u001b[39;49m\u001b[38;5;124;43mcompression\u001b[39;49m\u001b[38;5;124;43m\"\u001b[39;49m\u001b[43m,\u001b[49m\u001b[43m \u001b[49m\u001b[38;5;28;43;01mNone\u001b[39;49;00m\u001b[43m)\u001b[49m\u001b[43m,\u001b[49m\n\u001b[1;32m   1666\u001b[0m \u001b[43m    \u001b[49m\u001b[43mmemory_map\u001b[49m\u001b[38;5;241;43m=\u001b[39;49m\u001b[38;5;28;43mself\u001b[39;49m\u001b[38;5;241;43m.\u001b[39;49m\u001b[43moptions\u001b[49m\u001b[38;5;241;43m.\u001b[39;49m\u001b[43mget\u001b[49m\u001b[43m(\u001b[49m\u001b[38;5;124;43m\"\u001b[39;49m\u001b[38;5;124;43mmemory_map\u001b[39;49m\u001b[38;5;124;43m\"\u001b[39;49m\u001b[43m,\u001b[49m\u001b[43m \u001b[49m\u001b[38;5;28;43;01mFalse\u001b[39;49;00m\u001b[43m)\u001b[49m\u001b[43m,\u001b[49m\n\u001b[1;32m   1667\u001b[0m \u001b[43m    \u001b[49m\u001b[43mis_text\u001b[49m\u001b[38;5;241;43m=\u001b[39;49m\u001b[43mis_text\u001b[49m\u001b[43m,\u001b[49m\n\u001b[1;32m   1668\u001b[0m \u001b[43m    \u001b[49m\u001b[43merrors\u001b[49m\u001b[38;5;241;43m=\u001b[39;49m\u001b[38;5;28;43mself\u001b[39;49m\u001b[38;5;241;43m.\u001b[39;49m\u001b[43moptions\u001b[49m\u001b[38;5;241;43m.\u001b[39;49m\u001b[43mget\u001b[49m\u001b[43m(\u001b[49m\u001b[38;5;124;43m\"\u001b[39;49m\u001b[38;5;124;43mencoding_errors\u001b[39;49m\u001b[38;5;124;43m\"\u001b[39;49m\u001b[43m,\u001b[49m\u001b[43m \u001b[49m\u001b[38;5;124;43m\"\u001b[39;49m\u001b[38;5;124;43mstrict\u001b[39;49m\u001b[38;5;124;43m\"\u001b[39;49m\u001b[43m)\u001b[49m\u001b[43m,\u001b[49m\n\u001b[1;32m   1669\u001b[0m \u001b[43m    \u001b[49m\u001b[43mstorage_options\u001b[49m\u001b[38;5;241;43m=\u001b[39;49m\u001b[38;5;28;43mself\u001b[39;49m\u001b[38;5;241;43m.\u001b[39;49m\u001b[43moptions\u001b[49m\u001b[38;5;241;43m.\u001b[39;49m\u001b[43mget\u001b[49m\u001b[43m(\u001b[49m\u001b[38;5;124;43m\"\u001b[39;49m\u001b[38;5;124;43mstorage_options\u001b[39;49m\u001b[38;5;124;43m\"\u001b[39;49m\u001b[43m,\u001b[49m\u001b[43m \u001b[49m\u001b[38;5;28;43;01mNone\u001b[39;49;00m\u001b[43m)\u001b[49m\u001b[43m,\u001b[49m\n\u001b[1;32m   1670\u001b[0m \u001b[43m\u001b[49m\u001b[43m)\u001b[49m\n\u001b[1;32m   1671\u001b[0m \u001b[38;5;28;01massert\u001b[39;00m \u001b[38;5;28mself\u001b[39m\u001b[38;5;241m.\u001b[39mhandles \u001b[38;5;129;01mis\u001b[39;00m \u001b[38;5;129;01mnot\u001b[39;00m \u001b[38;5;28;01mNone\u001b[39;00m\n\u001b[1;32m   1672\u001b[0m f \u001b[38;5;241m=\u001b[39m \u001b[38;5;28mself\u001b[39m\u001b[38;5;241m.\u001b[39mhandles\u001b[38;5;241m.\u001b[39mhandle\n",
      "File \u001b[0;32m/opt/conda/lib/python3.10/site-packages/pandas/io/common.py:859\u001b[0m, in \u001b[0;36mget_handle\u001b[0;34m(path_or_buf, mode, encoding, compression, memory_map, is_text, errors, storage_options)\u001b[0m\n\u001b[1;32m    854\u001b[0m \u001b[38;5;28;01melif\u001b[39;00m \u001b[38;5;28misinstance\u001b[39m(handle, \u001b[38;5;28mstr\u001b[39m):\n\u001b[1;32m    855\u001b[0m     \u001b[38;5;66;03m# Check whether the filename is to be opened in binary mode.\u001b[39;00m\n\u001b[1;32m    856\u001b[0m     \u001b[38;5;66;03m# Binary mode does not support 'encoding' and 'newline'.\u001b[39;00m\n\u001b[1;32m    857\u001b[0m     \u001b[38;5;28;01mif\u001b[39;00m ioargs\u001b[38;5;241m.\u001b[39mencoding \u001b[38;5;129;01mand\u001b[39;00m \u001b[38;5;124m\"\u001b[39m\u001b[38;5;124mb\u001b[39m\u001b[38;5;124m\"\u001b[39m \u001b[38;5;129;01mnot\u001b[39;00m \u001b[38;5;129;01min\u001b[39;00m ioargs\u001b[38;5;241m.\u001b[39mmode:\n\u001b[1;32m    858\u001b[0m         \u001b[38;5;66;03m# Encoding\u001b[39;00m\n\u001b[0;32m--> 859\u001b[0m         handle \u001b[38;5;241m=\u001b[39m \u001b[38;5;28;43mopen\u001b[39;49m\u001b[43m(\u001b[49m\n\u001b[1;32m    860\u001b[0m \u001b[43m            \u001b[49m\u001b[43mhandle\u001b[49m\u001b[43m,\u001b[49m\n\u001b[1;32m    861\u001b[0m \u001b[43m            \u001b[49m\u001b[43mioargs\u001b[49m\u001b[38;5;241;43m.\u001b[39;49m\u001b[43mmode\u001b[49m\u001b[43m,\u001b[49m\n\u001b[1;32m    862\u001b[0m \u001b[43m            \u001b[49m\u001b[43mencoding\u001b[49m\u001b[38;5;241;43m=\u001b[39;49m\u001b[43mioargs\u001b[49m\u001b[38;5;241;43m.\u001b[39;49m\u001b[43mencoding\u001b[49m\u001b[43m,\u001b[49m\n\u001b[1;32m    863\u001b[0m \u001b[43m            \u001b[49m\u001b[43merrors\u001b[49m\u001b[38;5;241;43m=\u001b[39;49m\u001b[43merrors\u001b[49m\u001b[43m,\u001b[49m\n\u001b[1;32m    864\u001b[0m \u001b[43m            \u001b[49m\u001b[43mnewline\u001b[49m\u001b[38;5;241;43m=\u001b[39;49m\u001b[38;5;124;43m\"\u001b[39;49m\u001b[38;5;124;43m\"\u001b[39;49m\u001b[43m,\u001b[49m\n\u001b[1;32m    865\u001b[0m \u001b[43m        \u001b[49m\u001b[43m)\u001b[49m\n\u001b[1;32m    866\u001b[0m     \u001b[38;5;28;01melse\u001b[39;00m:\n\u001b[1;32m    867\u001b[0m         \u001b[38;5;66;03m# Binary mode\u001b[39;00m\n\u001b[1;32m    868\u001b[0m         handle \u001b[38;5;241m=\u001b[39m \u001b[38;5;28mopen\u001b[39m(handle, ioargs\u001b[38;5;241m.\u001b[39mmode)\n",
      "\u001b[0;31mFileNotFoundError\u001b[0m: [Errno 2] No such file or directory: 'E:/Asta/Projects/EPL-Data-Analysis-Project-main/EPL_20_21.csv'"
     ]
    }
   ],
   "source": [
    "df = pd.read_csv(r'E:/Asta/Projects/EPL-Data-Analysis-Project-main/EPL_20_21.csv')"
   ]
  },
  {
   "cell_type": "code",
   "execution_count": null,
   "metadata": {},
   "outputs": [],
   "source": [
    "df"
   ]
  },
  {
   "cell_type": "code",
   "execution_count": null,
   "metadata": {},
   "outputs": [],
   "source": [
    "# Teams' players\n",
    "df['Club'].value_counts()"
   ]
  },
  {
   "cell_type": "code",
   "execution_count": null,
   "metadata": {},
   "outputs": [],
   "source": [
    "# Number of nationalities in PL\n",
    "df['Nationality'].nunique()"
   ]
  },
  {
   "cell_type": "code",
   "execution_count": null,
   "metadata": {},
   "outputs": [],
   "source": [
    "# Number of players in each nationality\n",
    "df['Nationality'].value_counts()"
   ]
  },
  {
   "cell_type": "code",
   "execution_count": null,
   "metadata": {},
   "outputs": [],
   "source": [
    "df['Club'].unique()"
   ]
  },
  {
   "cell_type": "markdown",
   "metadata": {},
   "source": [
    "# Top 6 clubs"
   ]
  },
  {
   "cell_type": "markdown",
   "metadata": {},
   "source": [
    "Chelsea"
   ]
  },
  {
   "cell_type": "code",
   "execution_count": null,
   "metadata": {},
   "outputs": [],
   "source": [
    "CHE = df[df['Club'] == 'Chelsea']\n",
    "CHE"
   ]
  },
  {
   "cell_type": "code",
   "execution_count": null,
   "metadata": {},
   "outputs": [],
   "source": [
    "# Chelsea Players\n",
    "CHE['Name']"
   ]
  },
  {
   "cell_type": "code",
   "execution_count": null,
   "metadata": {},
   "outputs": [],
   "source": [
    "# Chelsea Players\n",
    "CHE['Name']"
   ]
  },
  {
   "cell_type": "code",
   "execution_count": null,
   "metadata": {},
   "outputs": [],
   "source": [
    "# Chelsea players nationality\n",
    "CHE['Nationality'].value_counts()"
   ]
  },
  {
   "cell_type": "code",
   "execution_count": null,
   "metadata": {},
   "outputs": [],
   "source": [
    "# Chelsea players positions\n",
    "CHE['Position'].value_counts()"
   ]
  },
  {
   "cell_type": "code",
   "execution_count": null,
   "metadata": {},
   "outputs": [],
   "source": [
    "# Chelsea players' age avg\n",
    "CHE_Age_AVG = CHE['Age'].mean()\n",
    "CHE_Age_AVG"
   ]
  },
  {
   "cell_type": "code",
   "execution_count": null,
   "metadata": {},
   "outputs": [],
   "source": [
    "# Top 5 players played matches\n",
    "CHE_Top5_Played = list(CHE['Matches'].sort_values(ascending=False).head(5).values)\n",
    "CHE[CHE['Matches'].isin(CHE_Top5_Played)].loc[:, ['Name', 'Matches', 'Mins']].sort_values(by='Matches', ascending=False)"
   ]
  },
  {
   "cell_type": "code",
   "execution_count": null,
   "metadata": {},
   "outputs": [],
   "source": [
    "# Top 5 players scored goals\n",
    "CHE_Top5_Scored = list(CHE['Goals'].sort_values(ascending=False).head(5).values)\n",
    "CHE[CHE['Goals'].isin(CHE_Top5_Scored)].loc[:, ['Name', 'Goals', ]].sort_values(by='Goals', ascending=False)"
   ]
  },
  {
   "cell_type": "code",
   "execution_count": null,
   "metadata": {},
   "outputs": [],
   "source": [
    "# Top 5 players assisted in goals\n",
    "CHE_Top5_Assisted = list(CHE['Assists'].sort_values(ascending=False).head(5).values)\n",
    "CHE[CHE['Assists'].isin(CHE_Top5_Assisted)].loc[:, ['Name', 'Assists']].sort_values(by='Assists', ascending=False)"
   ]
  },
  {
   "cell_type": "code",
   "execution_count": null,
   "metadata": {},
   "outputs": [],
   "source": [
    "# Chelsea players expected goals\n",
    "CHE_xG = list(CHE['xG'].sort_values(ascending=False).head(10).values)\n",
    "CHE[CHE['xG'].isin(CHE_xG)].loc[:, ['Name', 'Goals', 'xG']].sort_values(by='xG', ascending=False)"
   ]
  },
  {
   "cell_type": "code",
   "execution_count": null,
   "metadata": {},
   "outputs": [],
   "source": [
    "# Chelsea players expected assists\n",
    "CHE_xA = list(CHE['xA'].sort_values(ascending=False).head(10).values)\n",
    "CHE[CHE['xA'].isin(CHE_xA)].loc[:, ['Name', 'Assists', 'xA']].sort_values(by='xA', ascending=False)"
   ]
  },
  {
   "cell_type": "code",
   "execution_count": null,
   "metadata": {},
   "outputs": [],
   "source": [
    "# Chelsea Players Passes\n",
    "CHE.loc[:, ['Name', 'Passes_Attempted', 'Perc_Passes_Completed']].sort_values(by='Passes_Attempted', ascending=False)"
   ]
  },
  {
   "cell_type": "code",
   "execution_count": null,
   "metadata": {},
   "outputs": [],
   "source": [
    "# Chelsea Players Cards\n",
    "CHE.loc[:, ['Name', 'Yellow_Cards', 'Red_Cards']].sort_values(by='Yellow_Cards', ascending=False)"
   ]
  },
  {
   "cell_type": "markdown",
   "metadata": {},
   "source": [
    "Manchester City"
   ]
  },
  {
   "cell_type": "code",
   "execution_count": null,
   "metadata": {},
   "outputs": [],
   "source": [
    "MCI = df[df['Club'] == 'Manchester City']\n",
    "MCI"
   ]
  },
  {
   "cell_type": "code",
   "execution_count": null,
   "metadata": {},
   "outputs": [],
   "source": [
    "# Man City Players\n",
    "MCI['Name']"
   ]
  },
  {
   "cell_type": "code",
   "execution_count": null,
   "metadata": {},
   "outputs": [],
   "source": [
    "# Man City players nationality\n",
    "MCI['Nationality'].value_counts()"
   ]
  },
  {
   "cell_type": "code",
   "execution_count": null,
   "metadata": {},
   "outputs": [],
   "source": [
    "# Man City players positions\n",
    "MCI['Position'].value_counts()"
   ]
  },
  {
   "cell_type": "code",
   "execution_count": null,
   "metadata": {},
   "outputs": [],
   "source": [
    "# Man City players' age avg\n",
    "MCI_Age_AVG = MCI['Age'].mean()\n",
    "MCI_Age_AVG"
   ]
  },
  {
   "cell_type": "code",
   "execution_count": null,
   "metadata": {},
   "outputs": [],
   "source": [
    "# Top 5 players played matches\n",
    "MCI_Top5_Played = list(MCI['Matches'].sort_values(ascending=False).head(5).values)\n",
    "MCI[MCI['Matches'].isin(MCI_Top5_Played)].loc[:, ['Name', 'Matches', 'Mins']].sort_values(by='Matches', ascending=False)\n"
   ]
  },
  {
   "cell_type": "code",
   "execution_count": null,
   "metadata": {},
   "outputs": [],
   "source": [
    "# Top 5 players scored goals\n",
    "MCI_Top5_Scored = list(MCI['Goals'].sort_values(ascending=False).head(5).values)\n",
    "MCI[MCI['Goals'].isin(MCI_Top5_Scored)].loc[:, ['Name', 'Goals', ]].sort_values(by='Goals', ascending=False)\n"
   ]
  },
  {
   "cell_type": "code",
   "execution_count": null,
   "metadata": {},
   "outputs": [],
   "source": [
    "# Top 5 players assisted in goals\n",
    "MCI_Top5_Assisted = list(MCI['Assists'].sort_values(ascending=False).head(5).values)\n",
    "MCI[MCI['Assists'].isin(MCI_Top5_Assisted)].loc[:, ['Name', 'Assists']].sort_values(by='Assists', ascending=False)\n"
   ]
  },
  {
   "cell_type": "code",
   "execution_count": null,
   "metadata": {},
   "outputs": [],
   "source": [
    "# Man City players expected goals\n",
    "MCI_xG = list(MCI['xG'].sort_values(ascending=False).head(10).values)\n",
    "MCI[MCI['xG'].isin(MCI_xG)].loc[:, ['Name', 'Goals', 'xG']].sort_values(by='xG', ascending=False)\n"
   ]
  },
  {
   "cell_type": "code",
   "execution_count": null,
   "metadata": {},
   "outputs": [],
   "source": [
    "# Man City players expected assists\n",
    "MCI_xA = list(MCI['xA'].sort_values(ascending=False).head(10).values)\n",
    "MCI[MCI['xA'].isin(MCI_xA)].loc[:, ['Name', 'Assists', 'xA']].sort_values(by='xA', ascending=False)\n"
   ]
  },
  {
   "cell_type": "code",
   "execution_count": null,
   "metadata": {},
   "outputs": [],
   "source": [
    "# Man City Players Passes\n",
    "MCI.loc[:, ['Name', 'Passes_Attempted', 'Perc_Passes_Completed']].sort_values(by='Passes_Attempted', ascending=False)\n"
   ]
  },
  {
   "cell_type": "code",
   "execution_count": null,
   "metadata": {},
   "outputs": [],
   "source": [
    "# Man City Players Cards\n",
    "MCI.loc[:, ['Name', 'Yellow_Cards', 'Red_Cards']].sort_values(by='Yellow_Cards', ascending=False)\n"
   ]
  },
  {
   "cell_type": "markdown",
   "metadata": {},
   "source": [
    "Manchester United"
   ]
  },
  {
   "cell_type": "code",
   "execution_count": null,
   "metadata": {},
   "outputs": [],
   "source": [
    "MUN = df[df['Club'] == 'Manchester United']\n",
    "MUN"
   ]
  },
  {
   "cell_type": "code",
   "execution_count": null,
   "metadata": {},
   "outputs": [],
   "source": [
    "# Man United Players\n",
    "MUN['Name']"
   ]
  },
  {
   "cell_type": "code",
   "execution_count": null,
   "metadata": {},
   "outputs": [],
   "source": [
    "# Man United players nationality\n",
    "MUN['Nationality'].value_counts()"
   ]
  },
  {
   "cell_type": "code",
   "execution_count": null,
   "metadata": {},
   "outputs": [],
   "source": [
    "# Man United players positions\n",
    "MUN['Position'].value_counts()"
   ]
  },
  {
   "cell_type": "code",
   "execution_count": null,
   "metadata": {},
   "outputs": [],
   "source": [
    "# Man United players' age avg\n",
    "MUN_Age_AVG = MUN['Age'].mean()\n",
    "MUN_Age_AVG"
   ]
  },
  {
   "cell_type": "code",
   "execution_count": null,
   "metadata": {},
   "outputs": [],
   "source": [
    "# Top 5 players played matches\n",
    "MUN_Top5_Played = list(MUN['Matches'].sort_values(ascending=False).head(5).values)\n",
    "MUN[MUN['Matches'].isin(MUN_Top5_Played)].loc[:, ['Name', 'Matches', 'Mins']].sort_values(by='Matches', ascending=False)\n"
   ]
  },
  {
   "cell_type": "code",
   "execution_count": null,
   "metadata": {},
   "outputs": [],
   "source": [
    "# Top 5 players scored goals\n",
    "MUN_Top5_Scored = list(MUN['Goals'].sort_values(ascending=False).head(5).values)\n",
    "MUN[MUN['Goals'].isin(MUN_Top5_Scored)].loc[:, ['Name', 'Goals', ]].sort_values(by='Goals', ascending=False)\n"
   ]
  },
  {
   "cell_type": "code",
   "execution_count": null,
   "metadata": {},
   "outputs": [],
   "source": [
    "# Top 5 players assisted in goals\n",
    "MUN_Top5_Assisted = list(MUN['Assists'].sort_values(ascending=False).head(5).values)\n",
    "MUN[MUN['Assists'].isin(MUN_Top5_Assisted)].loc[:, ['Name', 'Assists']].sort_values(by='Assists', ascending=False)\n"
   ]
  },
  {
   "cell_type": "code",
   "execution_count": null,
   "metadata": {},
   "outputs": [],
   "source": [
    "# Man United players expected goals\n",
    "MUN_xG = list(MUN['xG'].sort_values(ascending=False).head(10).values)\n",
    "MUN[MUN['xG'].isin(MUN_xG)].loc[:, ['Name', 'Goals', 'xG']].sort_values(by='xG', ascending=False)\n"
   ]
  },
  {
   "cell_type": "code",
   "execution_count": null,
   "metadata": {},
   "outputs": [],
   "source": [
    "# Man United players expected assists\n",
    "MUN_xA = list(MUN['xA'].sort_values(ascending=False).head(10).values)\n",
    "MUN[MUN['xA'].isin(MUN_xA)].loc[:, ['Name', 'Assists', 'xA']].sort_values(by='xA', ascending=False)\n"
   ]
  },
  {
   "cell_type": "code",
   "execution_count": null,
   "metadata": {},
   "outputs": [],
   "source": [
    "# Man United Players Passes\n",
    "MUN.loc[:, ['Name', 'Passes_Attempted', 'Perc_Passes_Completed']].sort_values(by='Passes_Attempted', ascending=False)\n"
   ]
  },
  {
   "cell_type": "code",
   "execution_count": null,
   "metadata": {},
   "outputs": [],
   "source": [
    "# Man United Players Cards\n",
    "MUN.loc[:, ['Name', 'Yellow_Cards', 'Red_Cards']].sort_values(by='Yellow_Cards', ascending=False)\n"
   ]
  },
  {
   "cell_type": "markdown",
   "metadata": {},
   "source": [
    "Liverpool FC"
   ]
  },
  {
   "cell_type": "code",
   "execution_count": null,
   "metadata": {},
   "outputs": [],
   "source": [
    "LFC = df[df['Club'] == 'Liverpool FC']\n",
    "LFC"
   ]
  },
  {
   "cell_type": "code",
   "execution_count": null,
   "metadata": {},
   "outputs": [],
   "source": [
    "# Liverpool Players\n",
    "LFC['Name']"
   ]
  },
  {
   "cell_type": "code",
   "execution_count": null,
   "metadata": {},
   "outputs": [],
   "source": [
    "# Liverpool players nationality\n",
    "LFC['Nationality'].value_counts()"
   ]
  },
  {
   "cell_type": "code",
   "execution_count": null,
   "metadata": {},
   "outputs": [],
   "source": [
    "# Liverpool players positions\n",
    "LFC['Position'].value_counts()"
   ]
  },
  {
   "cell_type": "code",
   "execution_count": null,
   "metadata": {},
   "outputs": [],
   "source": [
    "# Liverpool players' age avg\n",
    "LFC_Age_AVG = LFC['Age'].mean()\n",
    "LFC_Age_AVG"
   ]
  },
  {
   "cell_type": "code",
   "execution_count": null,
   "metadata": {},
   "outputs": [],
   "source": [
    "# Top 5 players played matches\n",
    "LFC_Top5_Played = list(LFC['Matches'].sort_values(ascending=False).head(5).values)\n",
    "LFC[LFC['Matches'].isin(LFC_Top5_Played)].loc[:, ['Name', 'Matches', 'Mins']].sort_values(by='Matches', ascending=False)\n"
   ]
  },
  {
   "cell_type": "code",
   "execution_count": null,
   "metadata": {},
   "outputs": [],
   "source": [
    "# Top 5 players scored goals\n",
    "LFC_Top5_Scored = list(LFC['Goals'].sort_values(ascending=False).head(5).values)\n",
    "LFC[LFC['Goals'].isin(LFC_Top5_Scored)].loc[:, ['Name', 'Goals', ]].sort_values(by='Goals', ascending=False)\n"
   ]
  },
  {
   "cell_type": "code",
   "execution_count": null,
   "metadata": {},
   "outputs": [],
   "source": [
    "# Top 5 players assisted in goals\n",
    "LFC_Top5_Assisted = list(LFC['Assists'].sort_values(ascending=False).head(5).values)\n",
    "LFC[LFC['Assists'].isin(LFC_Top5_Assisted)].loc[:, ['Name', 'Assists']].sort_values(by='Assists', ascending=False)\n"
   ]
  },
  {
   "cell_type": "code",
   "execution_count": null,
   "metadata": {},
   "outputs": [],
   "source": [
    "# Liverpool players expected goals\n",
    "LFC_xG = list(LFC['xG'].sort_values(ascending=False).head(10).values)\n",
    "LFC[LFC['xG'].isin(LFC_xG)].loc[:, ['Name', 'Goals', 'xG']].sort_values(by='xG', ascending=False)\n"
   ]
  },
  {
   "cell_type": "code",
   "execution_count": null,
   "metadata": {},
   "outputs": [],
   "source": [
    "# Liverpool players expected assists\n",
    "LFC_xA = list(LFC['xA'].sort_values(ascending=False).head(10).values)\n",
    "LFC[LFC['xA'].isin(LFC_xA)].loc[:, ['Name', 'Assists', 'xA']].sort_values(by='xA', ascending=False)\n"
   ]
  },
  {
   "cell_type": "code",
   "execution_count": null,
   "metadata": {},
   "outputs": [],
   "source": [
    "# Liverpool Players Passes\n",
    "LFC.loc[:, ['Name', 'Passes_Attempted', 'Perc_Passes_Completed']].sort_values(by='Passes_Attempted', ascending=False)\n"
   ]
  },
  {
   "cell_type": "code",
   "execution_count": null,
   "metadata": {},
   "outputs": [],
   "source": [
    "# Liverpool Players Cards\n",
    "LFC.loc[:, ['Name', 'Yellow_Cards', 'Red_Cards']].sort_values(by='Yellow_Cards', ascending=False)\n"
   ]
  },
  {
   "cell_type": "markdown",
   "metadata": {},
   "source": [
    "Leicester City"
   ]
  },
  {
   "cell_type": "code",
   "execution_count": null,
   "metadata": {},
   "outputs": [],
   "source": [
    "LEI = df[df['Club'] == 'Leicester City']\n",
    "LEI"
   ]
  },
  {
   "cell_type": "code",
   "execution_count": null,
   "metadata": {},
   "outputs": [],
   "source": [
    "# Leicester Players\n",
    "LEI['Name']"
   ]
  },
  {
   "cell_type": "code",
   "execution_count": null,
   "metadata": {},
   "outputs": [],
   "source": [
    "# Leicester players nationality\n",
    "LEI['Nationality'].value_counts()"
   ]
  },
  {
   "cell_type": "code",
   "execution_count": null,
   "metadata": {},
   "outputs": [],
   "source": [
    "# Leicester players positions\n",
    "LEI['Position'].value_counts()"
   ]
  },
  {
   "cell_type": "code",
   "execution_count": null,
   "metadata": {},
   "outputs": [],
   "source": [
    "# Leicester players' age avg\n",
    "LEI_Age_AVG = LEI['Age'].mean()\n",
    "LEI_Age_AVG"
   ]
  },
  {
   "cell_type": "code",
   "execution_count": null,
   "metadata": {},
   "outputs": [],
   "source": [
    "# Top 5 players played matches\n",
    "LEI_Top5_Played = list(LEI['Matches'].sort_values(ascending=False).head(5).values)\n",
    "LEI[LEI['Matches'].isin(LEI_Top5_Played)].loc[:, ['Name', 'Matches', 'Mins']].sort_values(by='Matches', ascending=False)\n"
   ]
  },
  {
   "cell_type": "code",
   "execution_count": null,
   "metadata": {},
   "outputs": [],
   "source": [
    "# Top 5 players scored goals\n",
    "LEI_Top5_Scored = list(LEI['Goals'].sort_values(ascending=False).head(5).values)\n",
    "LEI[LEI['Goals'].isin(LEI_Top5_Scored)].loc[:, ['Name', 'Goals', ]].sort_values(by='Goals', ascending=False)\n"
   ]
  },
  {
   "cell_type": "code",
   "execution_count": null,
   "metadata": {},
   "outputs": [],
   "source": [
    "# Top 5 players assisted in goals\n",
    "LEI_Top5_Assisted = list(LEI['Assists'].sort_values(ascending=False).head(5).values)\n",
    "LEI[LEI['Assists'].isin(LEI_Top5_Assisted)].loc[:, ['Name', 'Assists']].sort_values(by='Assists', ascending=False)\n"
   ]
  },
  {
   "cell_type": "code",
   "execution_count": null,
   "metadata": {},
   "outputs": [],
   "source": [
    "# Leicester players expected goals\n",
    "LEI_xG = list(LEI['xG'].sort_values(ascending=False).head(10).values)\n",
    "LEI[LEI['xG'].isin(LEI_xG)].loc[:, ['Name', 'Goals', 'xG']].sort_values(by='xG', ascending=False)\n"
   ]
  },
  {
   "cell_type": "code",
   "execution_count": null,
   "metadata": {},
   "outputs": [],
   "source": [
    "# Leicester players expected assists\n",
    "LEI_xA = list(LEI['xA'].sort_values(ascending=False).head(10).values)\n",
    "LEI[LEI['xA'].isin(LEI_xA)].loc[:, ['Name', 'Assists', 'xA']].sort_values(by='xA', ascending=False)\n"
   ]
  },
  {
   "cell_type": "code",
   "execution_count": null,
   "metadata": {},
   "outputs": [],
   "source": [
    "# Leicester Players Passes\n",
    "LEI.loc[:, ['Name', 'Passes_Attempted', 'Perc_Passes_Completed']].sort_values(by='Passes_Attempted', ascending=False)\n"
   ]
  },
  {
   "cell_type": "code",
   "execution_count": null,
   "metadata": {},
   "outputs": [],
   "source": [
    "# Leicester Players Cards\n",
    "LEI.loc[:, ['Name', 'Yellow_Cards', 'Red_Cards']].sort_values(by='Yellow_Cards', ascending=False)\n"
   ]
  },
  {
   "cell_type": "markdown",
   "metadata": {},
   "source": [
    "West Ham United"
   ]
  },
  {
   "cell_type": "code",
   "execution_count": null,
   "metadata": {},
   "outputs": [],
   "source": [
    "WHU = df[df['Club'] == 'West Ham United']\n",
    "WHU"
   ]
  },
  {
   "cell_type": "code",
   "execution_count": null,
   "metadata": {},
   "outputs": [],
   "source": [
    "# West Ham Players\n",
    "WHU['Name']"
   ]
  },
  {
   "cell_type": "code",
   "execution_count": null,
   "metadata": {},
   "outputs": [],
   "source": [
    "# West Ham players nationality\n",
    "WHU['Nationality'].value_counts()"
   ]
  },
  {
   "cell_type": "code",
   "execution_count": null,
   "metadata": {},
   "outputs": [],
   "source": [
    "# West Ham players positions\n",
    "WHU['Position'].value_counts()"
   ]
  },
  {
   "cell_type": "code",
   "execution_count": null,
   "metadata": {},
   "outputs": [],
   "source": [
    "# West Ham players' age avg\n",
    "WHU_Age_AVG = WHU['Age'].mean()\n",
    "WHU_Age_AVG"
   ]
  },
  {
   "cell_type": "code",
   "execution_count": null,
   "metadata": {},
   "outputs": [],
   "source": [
    "# Top 5 players played matches\n",
    "WHU_Top5_Played = list(WHU['Matches'].sort_values(ascending=False).head(5).values)\n",
    "WHU[WHU['Matches'].isin(WHU_Top5_Played)].loc[:, ['Name', 'Matches', 'Mins']].sort_values(by='Matches', ascending=False)\n"
   ]
  },
  {
   "cell_type": "code",
   "execution_count": null,
   "metadata": {},
   "outputs": [],
   "source": [
    "# Top 5 players scored goals\n",
    "WHU_Top5_Scored = list(WHU['Goals'].sort_values(ascending=False).head(5).values)\n",
    "WHU[WHU['Goals'].isin(WHU_Top5_Scored)].loc[:, ['Name', 'Goals', ]].sort_values(by='Goals', ascending=False)\n"
   ]
  },
  {
   "cell_type": "code",
   "execution_count": null,
   "metadata": {},
   "outputs": [],
   "source": [
    "# Top 5 players assisted in goals\n",
    "WHU_Top5_Assisted = list(WHU['Assists'].sort_values(ascending=False).head(5).values)\n",
    "WHU[WHU['Assists'].isin(WHU_Top5_Assisted)].loc[:, ['Name', 'Assists']].sort_values(by='Assists', ascending=False)\n"
   ]
  },
  {
   "cell_type": "code",
   "execution_count": null,
   "metadata": {},
   "outputs": [],
   "source": [
    "# West Ham players expected goals\n",
    "WHU_xG = list(WHU['xG'].sort_values(ascending=False).head(10).values)\n",
    "WHU[WHU['xG'].isin(WHU_xG)].loc[:, ['Name', 'Goals', 'xG']].sort_values(by='xG', ascending=False)\n"
   ]
  },
  {
   "cell_type": "code",
   "execution_count": null,
   "metadata": {},
   "outputs": [],
   "source": [
    "# West Ham players expected assists\n",
    "WHU_xA = list(WHU['xA'].sort_values(ascending=False).head(10).values)\n",
    "WHU[WHU['xA'].isin(WHU_xA)].loc[:, ['Name', 'Assists', 'xA']].sort_values(by='xA', ascending=False)\n"
   ]
  },
  {
   "cell_type": "code",
   "execution_count": null,
   "metadata": {},
   "outputs": [],
   "source": [
    "# West Ham Players Passes\n",
    "WHU.loc[:, ['Name', 'Passes_Attempted', 'Perc_Passes_Completed']].sort_values(by='Passes_Attempted', ascending=False)\n"
   ]
  },
  {
   "cell_type": "code",
   "execution_count": null,
   "metadata": {},
   "outputs": [],
   "source": [
    "# West Ham Players Cards\n",
    "WHU.loc[:, ['Name', 'Yellow_Cards', 'Red_Cards']].sort_values(by='Yellow_Cards', ascending=False)\n"
   ]
  },
  {
   "cell_type": "code",
   "execution_count": null,
   "metadata": {},
   "outputs": [],
   "source": []
  },
  {
   "cell_type": "markdown",
   "metadata": {},
   "source": [
    "# Premier League Stats"
   ]
  },
  {
   "cell_type": "code",
   "execution_count": null,
   "metadata": {},
   "outputs": [],
   "source": [
    "# 5 top soccers (players)\n",
    "Soccers_Players = list(df['Goals'].sort_values(ascending=False).head(5).values)\n",
    "topSoc = df[df['Goals'].isin(Soccers_Players)].loc[:, ['Name', 'Club', 'Goals']].sort_values(by='Goals', ascending=False)\n",
    "topSoc"
   ]
  },
  {
   "cell_type": "code",
   "execution_count": null,
   "metadata": {},
   "outputs": [],
   "source": [
    "# 5 top assisters (players)\n",
    "Assisters_Players = list(df['Assists'].sort_values(ascending=False).head(5).values)\n",
    "df[df['Assists'].isin(Assisters_Players)].loc[:, ['Name', 'Club', 'Assists']].sort_values(by='Assists', ascending=False)"
   ]
  },
  {
   "cell_type": "code",
   "execution_count": null,
   "metadata": {},
   "outputs": [],
   "source": [
    "# 5 top soccers (clubs)\n",
    "df.groupby('Club')['Goals'].sum().sort_values(ascending=False).head(5)"
   ]
  },
  {
   "cell_type": "code",
   "execution_count": null,
   "metadata": {},
   "outputs": [],
   "source": [
    "# 5 top assisters (clubs)\n",
    "df.groupby('Club')['Assists'].sum().sort_values(ascending=False).head(5)"
   ]
  },
  {
   "cell_type": "code",
   "execution_count": null,
   "metadata": {},
   "outputs": [],
   "source": [
    "# 10 top players had more time in the ground\n",
    "time_play = list(df['Mins'].sort_values(ascending=False).head(10).values)\n",
    "df[df['Mins'].isin(time_play)].loc[:, ['Name', 'Club','Matches', 'Mins']].sort_values(by='Mins', ascending=False)"
   ]
  },
  {
   "cell_type": "code",
   "execution_count": null,
   "metadata": {},
   "outputs": [],
   "source": [
    "# 10 top players had more passes in the ground\n",
    "pass_atmpt = list(df['Passes_Attempted'].sort_values(ascending=False).head(10).values)\n",
    "df[df['Passes_Attempted'].isin(pass_atmpt)].loc[:, ['Name', 'Club','Passes_Attempted', 'Perc_Passes_Completed']].sort_values(by='Passes_Attempted', ascending=False)"
   ]
  },
  {
   "cell_type": "code",
   "execution_count": null,
   "metadata": {},
   "outputs": [],
   "source": [
    "# 5 top clubs had yellow cards\n",
    "df.groupby('Club')['Yellow_Cards'].sum().sort_values(ascending=False).head(5)"
   ]
  },
  {
   "cell_type": "code",
   "execution_count": null,
   "metadata": {},
   "outputs": [],
   "source": [
    "# 5 top clubs had little yellow cards\n",
    "df.groupby('Club')['Yellow_Cards'].sum().sort_values(ascending=True).head(5)"
   ]
  },
  {
   "cell_type": "code",
   "execution_count": null,
   "metadata": {},
   "outputs": [],
   "source": [
    "# 5 top clubs had Red cards\n",
    "df.groupby('Club')['Red_Cards'].sum().sort_values(ascending=False).head(5)"
   ]
  },
  {
   "cell_type": "code",
   "execution_count": null,
   "metadata": {},
   "outputs": [],
   "source": [
    "# 5 top clubs had little Red cards\n",
    "df.groupby('Club')['Red_Cards'].sum().sort_values(ascending=True).head(5)"
   ]
  },
  {
   "cell_type": "code",
   "execution_count": null,
   "metadata": {},
   "outputs": [],
   "source": [
    "# 10 top players had more cards the ground\n",
    "Cards_plyer = list(df['Yellow_Cards'].sort_values(ascending=False).head(10).values)\n",
    "df[df['Yellow_Cards'].isin(Cards_plyer)].loc[:, ['Name', 'Club','Yellow_Cards', 'Red_Cards']].sort_values(by='Yellow_Cards', ascending=False)"
   ]
  },
  {
   "cell_type": "code",
   "execution_count": null,
   "metadata": {},
   "outputs": [],
   "source": [
    "# 5 top nationalities except ENG\n",
    "top_nat = df['Nationality'].value_counts().head(6)\n",
    "top_nat[1:]"
   ]
  },
  {
   "cell_type": "code",
   "execution_count": null,
   "metadata": {},
   "outputs": [],
   "source": [
    "#pie chart for Penalties missed vs scored\n",
    "plt.figure(figsize=(13, 6))\n",
    "pl_not_scored = df['Penalty_Attempted'].sum() - df['Penalty_Goals'].sum()\n",
    "data = [pl_not_scored,df['Penalty_Goals'].sum()]\n",
    "labels=['Penalties Missed','Penalties Scored']\n",
    "color = sns.color_palette('crest')\n",
    "plt.pie(data, labels = labels ,colors = color ,autopct ='%1.1f%%',explode = [0.1,0.1],shadow = True)\n",
    "\n",
    "plt.axis('equal')\n",
    "plt.show()"
   ]
  },
  {
   "cell_type": "code",
   "execution_count": null,
   "metadata": {},
   "outputs": [],
   "source": [
    "#Most Players From which Position\n",
    "Position = df.groupby('Position').size().sort_values(ascending = False)\n",
    "Position.head(10).plot(kind = 'bar',figsize=(12, 6) ,color = sns.color_palette('crest'))\n",
    "plt.ylabel('Players')\n",
    "plt.title('Positions of Players')\n",
    "plt.show()"
   ]
  },
  {
   "cell_type": "code",
   "execution_count": null,
   "metadata": {},
   "outputs": [],
   "source": [
    "#Most Players From which Position\n",
    "plt.figure(figsize=((15,10)))\n",
    "# Position = df.groupby('Club')['Age'].mean()\n",
    "Ags = df.groupby('Club')['Age'].mean()\n",
    "Ags.plot(kind = 'bar',figsize=(12, 6) ,color = sns.color_palette('crest'))\n",
    "plt.ylabel('Age')\n",
    "plt.title('AVG Age of Players')\n",
    "plt.tight_layout()\n",
    "plt.show()"
   ]
  }
 ],
 "metadata": {
  "kernelspec": {
   "display_name": "Python 3 (ipykernel)",
   "language": "python",
   "name": "python3"
  },
  "language_info": {
   "codemirror_mode": {
    "name": "ipython",
    "version": 3
   },
   "file_extension": ".py",
   "mimetype": "text/x-python",
   "name": "python",
   "nbconvert_exporter": "python",
   "pygments_lexer": "ipython3",
   "version": "3.8.10"
  }
 },
 "nbformat": 4,
 "nbformat_minor": 4
}
