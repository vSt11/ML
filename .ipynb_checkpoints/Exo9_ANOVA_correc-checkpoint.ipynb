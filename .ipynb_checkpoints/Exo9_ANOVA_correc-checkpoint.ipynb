{
 "cells": [
  {
   "cell_type": "markdown",
   "metadata": {},
   "source": [
    "## EXERCICE 9 : Analyse ANOVA\n",
    "\n",
    "inspire de  https://www.marsja.se/four-ways-to-conduct-one-way-anovas-using-python/\n"
   ]
  },
  {
   "cell_type": "code",
   "execution_count": 2,
   "metadata": {},
   "outputs": [
    {
     "data": {
      "image/png": "[encoded data removed]",
      "text/plain": [
       "<Figure size 864x576 with 1 Axes>"
      ]
     },
     "metadata": {
      "needs_background": "light"
     },
     "output_type": "display_data"
    }
   ],
   "source": [
    "\n",
    "#1) INIT\n",
    "\n",
    "#1.1) Importe les modules matplotlib (pour la visualisation de graphes) et pandas (pour la manipulation de donnees)\n",
    "import matplotlib.pyplot as plt\n",
    "import pandas as pd\n",
    "from scipy import stats\n",
    "\n",
    "#1.2) charge les donnees\n",
    "data = pd.read_csv(\"PlantGrowth.csv\")\n",
    " \n",
    "#1.3) represente un resume des données (necessite d'avoir appele matplotlib)\n",
    "data.boxplot('weight', by='group', figsize=(12, 8))\n",
    "plt.show()\n"
   ]
  },
  {
   "cell_type": "markdown",
   "metadata": {},
   "source": [
    "##### QUESTION 1 : \n",
    "- Que signifient les box-plots (ou boite a moustache) ? Vous pouvez taper 'data.boxplot?' pour des informations elementaires\n",
    "- Les groupes vous semblent-il distribues de maniere similaire ?\n",
    "- Les variabilités intra-groupe vous semblent-t-elles similaires ?\n"
   ]
  },
  {
   "cell_type": "markdown",
   "metadata": {},
   "source": [
    "##### Réponses\n",
    "\n",
    "- Elle represente le 1 et 3 quartile, plus la mediane d'un jeu de donnees.Elles representent de meme les valeurs limites au dela desquelles des observations peuvent etre considerees comme abérantes\n",
    "- Non\n",
    "- Oui"
   ]
  },
  {
   "cell_type": "code",
   "execution_count": 3,
   "metadata": {},
   "outputs": [
    {
     "name": "stdout",
     "output_type": "stream",
     "text": [
      "0.015909958325623124\n"
     ]
    }
   ],
   "source": [
    "#2) STATISTIQUE DE FISHER\n",
    "\n",
    " \n",
    "grps = pd.unique(data.group.values)\n",
    "d_data = {grp:data['weight'][data.group == grp] for grp in grps}\n",
    " \n",
    "k = len(grps)  # nombre de groupes\n",
    "N = len(data.values)  # nombre d'observations\n",
    "n = data.groupby('group').size()[0] #nombre d'observations dans chaque groupe (on remarque que tous les groupes on la meme taille)\n",
    "\n",
    "#calcule la variabilite due aux interactions entre groupes (Sum of Squares Between)\n",
    "SSbetween = (sum(data.groupby('group').sum()['weight']**2)/n)- (data['weight'].sum()**2)/N\n",
    "\n",
    "#calcule la variabilite due aux differences entre les observations (Sum of Squares Within)\n",
    "sum_y_squared = sum([value**2 for value in data['weight'].values])\n",
    "SSwithin = sum_y_squared - sum(data.groupby('group').sum()['weight']**2)/n\n",
    "\n",
    "#calcule la variabilite totale (Sum of Squares Total)\n",
    "SStotal = sum_y_squared - (data['weight'].sum()**2)/N\n",
    "\n",
    "#defini les degres de liberte\n",
    "DFbetween = k - 1\n",
    "DFwithin = N - k\n",
    "DFtotal = N - 1\n",
    "\n",
    "#calcule la statistique de Fisher\n",
    "MSbetween = SSbetween/DFbetween\n",
    "MSwithin = SSwithin/DFwithin\n",
    "\n",
    "F = MSbetween/MSwithin\n",
    "\n",
    "\n",
    "p = stats.f.sf(F, DFbetween, DFwithin)\n",
    "\n",
    "print(p)"
   ]
  },
  {
   "cell_type": "markdown",
   "metadata": {},
   "source": [
    "##### QUESTION 2\n",
    "Faire le lien avec la section 4.3 du cours pour comprendre ce que signifie p.\n"
   ]
  },
  {
   "cell_type": "markdown",
   "metadata": {},
   "source": [
    "Réponse : En tapant stats.f.sf?, on peut voir que p est la survival function, c'est a dire (1-cdf) ou la cdf est la 'cumulative distribution function'. Vu que la valeur est inferieure a 0.05, on rejette l'hypothese nulle, bref on conclue qu'il y a une inegalite des moyennes.\n"
   ]
  },
  {
   "cell_type": "markdown",
   "metadata": {},
   "source": [
    "\n",
    "##### QUESTION 3\n",
    "Adapter ce code pour etudier la colonne 'f2' des donnees IRIS de 'DataIris.csv'.\n"
   ]
  },
  {
   "cell_type": "code",
   "execution_count": 6,
   "metadata": {},
   "outputs": [
    {
     "data": {
      "image/png": "[encoded data removed]",
      "text/plain": [
       "<Figure size 864x576 with 1 Axes>"
      ]
     },
     "metadata": {
      "needs_background": "light"
     },
     "output_type": "display_data"
    },
    {
     "name": "stdout",
     "output_type": "stream",
     "text": [
      "1.3279165184537495e-16\n"
     ]
    }
   ],
   "source": [
    "\n",
    "data = pd.read_csv(\"DataIris.csv\")\n",
    " \n",
    "data.boxplot('f2', by='IRIS_type', figsize=(12, 8))\n",
    "plt.show()\n",
    "\n",
    "\n",
    " \n",
    "grps = pd.unique(data.IRIS_type.values)\n",
    "d_data = {grp:data['f2'][data.IRIS_type == grp] for grp in grps}\n",
    " \n",
    "k = len(grps)  \n",
    "N = len(data.values)  \n",
    "n = data.groupby('IRIS_type').size()[0] \n",
    "\n",
    "#calcule la variabilite due aux interactions entre groupes (Sum of Squares Between)\n",
    "SSbetween = (sum(data.groupby('IRIS_type').sum()['f2']**2)/n)- (data['f2'].sum()**2)/N\n",
    "\n",
    "#calcule la variabilite due aux differences entre les observations (Sum of Squares Within)\n",
    "sum_y_squared = sum([value**2 for value in data['f2'].values])\n",
    "SSwithin = sum_y_squared - sum(data.groupby('IRIS_type').sum()['f2']**2)/n\n",
    "\n",
    "#calcule la variabilite totale (Sum of Squares Total)\n",
    "SStotal = sum_y_squared - (data['f2'].sum()**2)/N\n",
    "\n",
    "#defini les degres de liberte\n",
    "DFbetween = k - 1\n",
    "DFwithin = N - k\n",
    "DFtotal = N - 1\n",
    "\n",
    "#calcule la statistique de Fisher\n",
    "MSbetween = SSbetween/DFbetween\n",
    "MSwithin = SSwithin/DFwithin\n",
    "\n",
    "F = MSbetween/MSwithin\n",
    "\n",
    "\n",
    "p = stats.f.sf(F, DFbetween, DFwithin)\n",
    "\n",
    "print(p)"
   ]
  },
  {
   "cell_type": "markdown",
   "metadata": {},
   "source": [
    "\n",
    "##### QUESTION 4 :\n",
    "\n",
    "Est-ce qu'un test non-parametrique de kruskal wallis mene aux mêmes conclusions ?\n",
    "\n",
    "Utiliser la fonction scipy.stats.kruskal\n"
   ]
  },
  {
   "cell_type": "code",
   "execution_count": 7,
   "metadata": {},
   "outputs": [
    {
     "name": "stdout",
     "output_type": "stream",
     "text": [
      "2.6882119006774528e-14\n"
     ]
    }
   ],
   "source": [
    "\n",
    "from scipy.stats import kruskal\n",
    "\n",
    "f2vals=data['f2'].values\n",
    "\n",
    "kres=kruskal(f2vals[0:50],f2vals[50:100],f2vals[100:150])\n",
    "\n",
    "p=kres.pvalue\n",
    "\n",
    "print(p)"
   ]
  },
  {
   "cell_type": "code",
   "execution_count": null,
   "metadata": {},
   "outputs": [],
   "source": []
  }
 ],
 "metadata": {
  "anaconda-cloud": {},
  "kernelspec": {
   "display_name": "Python 3 (ipykernel)",
   "language": "python",
   "name": "python3"
  },
  "language_info": {
   "codemirror_mode": {
    "name": "ipython",
    "version": 3
   },
   "file_extension": ".py",
   "mimetype": "text/x-python",
   "name": "python",
   "nbconvert_exporter": "python",
   "pygments_lexer": "ipython3",
   "version": "3.8.10"
  }
 },
 "nbformat": 4,
 "nbformat_minor": 4
}
