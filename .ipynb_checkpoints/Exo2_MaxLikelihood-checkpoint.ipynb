{
 "cells": [
  {
   "cell_type": "code",
   "execution_count": 1,
   "metadata": {},
   "outputs": [],
   "source": [
    "import numpy as np\n",
    "import matplotlib.pyplot as plt"
   ]
  },
  {
   "cell_type": "markdown",
   "metadata": {},
   "source": [
    "\n",
    "## Exercice 2 : maximum de vraisemblance\n",
    "\n",
    "### <span style=\"color:blue\">QUESTION 2.1 :</span> \n",
    "\n",
    "Tirer 10 fois une pièce à pile ou face et modéliser les résultats obtenus comme ceux d'une variable aléatoire X qui vaut X_i=0 si on a pile et X_i=1 si on a face.\n",
    "\n",
    "Calculez le maximum de vraisemblance du paramètre p d'un loi de Bernoulli qui modéliserait le problème. Pour y arriver, différentes valeures possibles de p seront testées et le p retenu sera celui qui a la plus grande vraisemblance.\n",
    "\n",
    "\n",
    "- Vérifier empiriquement comment évolue ce maximum de vraisemblance si l'on effectue de plus en plus de tirages\n",
    "- Que se passe-t-il quand il y a trop de tirages ? Représenter la log-vraisemblance plutot que la vraisemblance dans ce cas.\n",
    "\n",
    "\n"
   ]
  },
  {
   "cell_type": "code",
   "execution_count": 46,
   "metadata": {},
   "outputs": [
    {
     "name": "stdout",
     "output_type": "stream",
     "text": [
      "0.495050505050505\n",
      "vraisemblance : 9.064074559481787e-302\n",
      "log-vraisemblance :-2312.205380770931\n"
     ]
    }
   ],
   "source": [
    "NbTirages=1000\n",
    "\n",
    "\n",
    "NbPiles = np.random.randn(NbTirages) > 0\n",
    "NbPiles = np.sum(NbPiles)\n",
    "NbFaces=NbTirages-NbPiles\n",
    "\n",
    "\n",
    "PossibleValuesForP=np.linspace(0.01,0.99,100)\n",
    "vraisemblance(NbPiles, NbFaces, 0.01)\n",
    "\n",
    "def vraisemblance(n_pile, n_face, p):\n",
    "    likelihood_pile = p ** n_pile\n",
    "    likelihood_face = (1 - p) ** n_face\n",
    "    likelihood = likelihood_pile * likelihood_face   \n",
    "    return likelihood \n",
    "\n",
    "def log_vraisemblance(n_pile, n_face, best_p):\n",
    "    # Calculer la log-vraisemblance\n",
    "    log_likelihood_pile = n_pile * np.log(p)\n",
    "    log_likelihood_face = n_face * np.log(1 - p)\n",
    "    log_likelihood = log_likelihood_pile + log_likelihood_face\n",
    "    return log_likelihood\n",
    "\n",
    "# Initialisation des variables pour stocker le meilleur p et sa vraisemblance maximale\n",
    "best_p = None\n",
    "max_likelihood = -1  # Une valeur initiale faible\n",
    "\n",
    "# Parcours des différentes valeurs de p\n",
    "for p in PossibleValuesForP:\n",
    "    likelihood = vraisemblance(NbPiles, NbFaces, p)\n",
    "    if likelihood > max_likelihood:\n",
    "        max_likelihood = likelihood\n",
    "        best_p = p\n",
    "\n",
    "print(best_p)\n",
    "print(\"vraisemblance : \"+ str(vraisemblance(NbPiles, NbFaces, best_p)))\n",
    "print(\"log-vraisemblance :\"+ str(log_vraisemblance(NbPiles, NbFaces, best_p)))\n",
    "\n",
    "#Plus le nombre de tirages augmente, plus la vraisemblance tend vers 0\n"
   ]
  },
  {
   "cell_type": "markdown",
   "metadata": {},
   "source": [
    "\n",
    "### <span style=\"color:blue\">QUESTION 2.2 :</span> \n",
    "\n",
    "\n",
    "Vérifier empiriquement comment évolue ce maximum de vraisemblance si l'on effectue de plus en plus de tirages. Pour éviter de tirer des centaines de fois à pile ou face, vous pourrez juste modifier *NbTirages¨et *NbPiles* dans le code, puis voir le comportement de la courbe *plt.plot(PossibleValuesForP,CorrespondingLikelihood)*.\n",
    "\n",
    "\n",
    "### <span style=\"color:blue\">REPONSE 2.2 :</span> \n",
    "\n"
   ]
  },
  {
   "cell_type": "markdown",
   "metadata": {},
   "source": [
    "\n",
    "...\n",
    "\n",
    "### <span style=\"color:blue\">QUESTION 2.3 :</span> \n",
    "\n",
    "\n",
    "Que se passe-t-il quand il y a trop de tirages ? Représenter la log-vraisemblance plutot que la vraisemblance dans ce cas.\n",
    "\n",
    "### <span style=\"color:blue\">REPONSE 2.3 :</span> \n"
   ]
  },
  {
   "cell_type": "code",
   "execution_count": null,
   "metadata": {},
   "outputs": [],
   "source": [
    "NbTirages=2000\n",
    "NbPiles = np.random.randn(NbTirages) > 0\n",
    "NbPiles = np.sum(NbPiles)\n",
    "NbFaces=NbTirages-NbPiles\n",
    "\n",
    "\n",
    "PossibleValuesForP=np.linspace(0.01,0.99,100)\n",
    "\n",
    "..."
   ]
  },
  {
   "cell_type": "code",
   "execution_count": null,
   "metadata": {},
   "outputs": [],
   "source": []
  },
  {
   "cell_type": "code",
   "execution_count": null,
   "metadata": {},
   "outputs": [],
   "source": []
  },
  {
   "cell_type": "code",
   "execution_count": null,
   "metadata": {},
   "outputs": [],
   "source": []
  }
 ],
 "metadata": {
  "anaconda-cloud": {},
  "kernelspec": {
   "display_name": "Python 3 (ipykernel)",
   "language": "python",
   "name": "python3"
  },
  "language_info": {
   "codemirror_mode": {
    "name": "ipython",
    "version": 3
   },
   "file_extension": ".py",
   "mimetype": "text/x-python",
   "name": "python",
   "nbconvert_exporter": "python",
   "pygments_lexer": "ipython3",
   "version": "3.8.10"
  }
 },
 "nbformat": 4,
 "nbformat_minor": 4
}
