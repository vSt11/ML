{
 "cells": [
  {
   "cell_type": "markdown",
   "metadata": {},
   "source": [
    "## EXERCICE 10 : PLS\n",
    "\n",
    "inspire de http://scikit-learn.org/stable/auto_examples/cross_decomposition/plot_compare_cross_decomposition.html\n"
   ]
  },
  {
   "cell_type": "code",
   "execution_count": 1,
   "metadata": {},
   "outputs": [],
   "source": [
    "import numpy as np\n",
    "from numpy import random\n",
    "\n",
    "import matplotlib.pyplot as plt\n",
    "from sklearn.cross_decomposition import PLSRegression\n"
   ]
  },
  {
   "cell_type": "markdown",
   "metadata": {},
   "source": [
    "### Partie 1 : regression PLS avec reponse univariee (PLS1)\n"
   ]
  },
  {
   "cell_type": "code",
   "execution_count": 6,
   "metadata": {},
   "outputs": [
    {
     "name": "stdout",
     "output_type": "stream",
     "text": [
      "[[11.9 10.6 13.  ... 12.8  8.4  6.3]\n",
      " [14.7  9.9 12.5 ... 16.3 11.   7.6]\n",
      " [ 8.9 10.1 10.9 ... 14.6  8.8  9.6]\n",
      " ...\n",
      " [13.5 12.3 13.5 ... 11.5  7.5  7.2]\n",
      " [12.2 12.3 11.9 ... 14.  11.8  9.2]\n",
      " [11.8 12.7 11.8 ... 11.3  6.7  8.8]]\n",
      "[[ 9.8 14.   8.4 11.1  8.5  9.2  8.8 10.1 12.1  8.5  8.1 11.  10.  10.7\n",
      "  12.1 11.9 13.1 11.2  9.2 10.9 10.6  8.3 10.8 11.2 10.6  9.8 11.7 11.2\n",
      "  10.7  7.6  9.7 11.8 11.1  9.6 10.3 11.1  8.4  8.6  9.6  7.9  9.1  9.3\n",
      "  11.   9.5 10.  11.5 10.4  7.9  8.7  7.8  9.8 10.   7.7 10.3  9.8  8.3\n",
      "  10.3 11.3 11.   9.7  9.2 10.3  7.2 11.8 13.1 11.4 11.2 11.3 10.4 10.8\n",
      "  10.  10.1 13.6 11.1 10.2 10.2 10.4 11.9 11.  11.9 12.1  9.8 11.4 11.1\n",
      "  12.7  7.3 10.9 11.6 13.2  8.7 11.6 10.2 12.2 11.  10.8  8.6  9.   9.9\n",
      "   7.3 11.9 12.5  8.9 10.9 11.1 10.4  9.6 12.2 10.8 10.8 10.3 13.3 11.6\n",
      "  10.1 12.   9.5 11.7 12.2 13.  12.  11.2 10.6 11.1  9.8 12.2 13.4 11.3\n",
      "  11.2  9.5 12.8 11.  11.6 14.   9.8 11.   8.9 13.1  9.1 11.7  7.2  8.2\n",
      "  10.  10.9 10.   9.5 10.4 11.9  9.8  8.3 11.8 11.   8.6 10.6 11.9  8.8\n",
      "  12.9 12.9  9.3  9.2 11.9 11.9 10.1 13.6 11.3  9.5 11.9 11.5  9.2  9.6\n",
      "  11.4  9.3 11.  11.4 10.2  8.  11.8  9.1  9.7 11.6  9.9  9.8 10.4  9.2\n",
      "  10.1 10.  11.   9.8  8.7 11.8 10.   9.4 10.7 14.   7.3 12.5  7.8 12.4\n",
      "  13.2 10.9 11.2 10.7  9.6  8.6  7.4  9.6 12.1 10.2 11.5 10.3  8.8 11.2\n",
      "   9.   7.7 12.   9.1 11.7 12.4  9.2 10.5 10.3  9.5 10.4 10.9  6.4  6.9\n",
      "  11.8 11.7 11.4  9.3 11.8 12.3  8.9 10.7  9.7 10.4  8.8 10.1  9.2 11.\n",
      "  10.5 12.  11.   9.5  9.4 12.  11.2  8.4  8.7  8.4  9.5  9.  12.7 13.4\n",
      "   9.9  9.1 10.9 10.9  7.  10.7 10.8  7.3 11.1  9.8 10.2 10.7 11.4 11.6\n",
      "   7.5  7.9 11.4 10.   9.5 13.2  6.6  9.1  8.3  8.3  9.4  9.  12.3 10.1\n",
      "   9.9  9.3  9.   7.  10.8 10.8  8.9 11.1  6.3 10.9 10.2  9.3 10.2  9.6\n",
      "   9.6  9.6 11.6 11.5  7.1 10.3  8.1 12.6  8.4  9.5  8.8 10.7  9.5  9.2\n",
      "  14.3 11.4 10.1 11.9 11.5 10.  10.1 10.5  9.8  5.4  9.   9.4 10.5 10.2\n",
      "  12.7 10.   9.6 10.1  9.3 10.7 13.5 12.7 11.4 10.2 10.8 11.6  7.3  8.1\n",
      "   9.4  8.6  9.3 13.1  9.7  7.9  9.6 11.5  8.5  6.9 13.5 10.3  9.   9.5\n",
      "  11.9  9.6 11.1 11.5  8.7  9.6  7.4 10.5 11.4 11.  12.5 12.3 11.6 10.1\n",
      "  10.1 10.4  7.4 12.5 10.4 10.8  9.   9.2 10.5  7.5 11.1  8.7 12.2 12.4\n",
      "  11.3 10.5  7.3 10.6 10.6  9.6 11.2 10.3  7.6  9.9 12.   8.8  9.2 11.8\n",
      "  11.8 12.8 11.8 11.9 11.8  7.9  8.3 10.8 10.5  7.3  8.1 12.3  7.2  9.9\n",
      "  10.7  8.8  9.4 11.   8.6 11.6 10.3 10.4  8.9  8.5  9.  10.6  9.5 11.\n",
      "  11.1 10.7 11.2  9.7 10.4  9.6  9.6  9.7 10.4 10.3  8.3 10.2 11.1 10.4\n",
      "   7.3  6.3  9.3 10.5  8.2 11.5 13.7  9.1 10.5 10.4  9.3 12.2  8.5 10.8\n",
      "   9.8 11.6 10.3 10.7 11.5 10.5 10.2 10.2  9.5  9.3  8.7  9.7 10.5  8.3\n",
      "   8.7  9.3 11.6  8.3  8.6 11.1 12.2  6.5  8.6  8.2  6.8  9.4 12.  12.2\n",
      "  10.  11.3 10.4  9.4 12.6  9.8 10.1 10.3 10.2  9.5 10.1  9.1  8.9  9.5\n",
      "   8.3 10.8  7.3 11.5 11.1 13.   9.6 10.8 11.5  9.7]]\n"
     ]
    },
    {
     "name": "stderr",
     "output_type": "stream",
     "text": [
      "<ipython-input-6-c434bf0eb54a>:20: RuntimeWarning: covariance is not positive-semidefinite.\n",
      "  notes=np.round(random.multivariate_normal(mean, 4*cov, size=n),1)\n"
     ]
    }
   ],
   "source": [
    "#On va supposer que l'on veut mettre en lien les notes d'étudiants dans différentes \n",
    "#matières (notes) à celles obtenus par les mêmes étudiants à un concours en fin d'année (y)\n",
    "\n",
    "#GENERATION DE DONNEES SIMULEES\n",
    "n = 500\n",
    "p = 7\n",
    "\n",
    "cov=np.array(\n",
    "[[0.2 , 0.5  , 0.5 , 0   , 0   , 0.  , 0  ],\n",
    "[0.5  , 0.2  , 0.5 , 0   , 0   , 0   , 0.],\n",
    "[0.5  , 0.5  , 0.2  , 0.  , 0   , 0   , 0  ],\n",
    "[0.   , 0    , 0.  , 1.2 , 0.8 , 0   , 0  ],\n",
    "[0.   , 0    , 0   , 0.8 , 1.5 , 0   , 0  ],\n",
    "[0.   , 0    , 0   , 0   , 0   , 0.2  , 0.9],\n",
    "[0.   , 0.0  , 0   , 0   , 0   , 0.9 , 0.2]]\n",
    ")\n",
    "\n",
    "mean = np.array([12,11,13,12,10,9,8.])\n",
    "\n",
    "notes=np.round(random.multivariate_normal(mean, 4*cov, size=n),1)\n",
    "\n",
    "notes[notes<0.]=0.\n",
    "notes[notes>20.]=20.\n",
    "\n",
    "theta=np.array([0.5,0.00,0.0,0.00,0.00,0.25,0.25])\n",
    "y = np.round(np.dot(notes,theta.reshape(-1,1)) + np.random.normal(size=n).reshape(-1,1),1)\n",
    "           \n",
    "print(notes)\n",
    "print(y.transpose())\n",
    "     \n",
    "    \n"
   ]
  },
  {
   "cell_type": "markdown",
   "metadata": {},
   "source": [
    "##### QUESTION 1: \n",
    "- Comment sont construites les donnees simulees ? \n",
    "- Que vous attendez-vous a voir dans la PLS\n"
   ]
  },
  {
   "cell_type": "code",
   "execution_count": 7,
   "metadata": {},
   "outputs": [
    {
     "data": {
      "text/plain": [
       "PLSRegression(n_components=7)"
      ]
     },
     "execution_count": 7,
     "metadata": {},
     "output_type": "execute_result"
    }
   ],
   "source": [
    "\n",
    "pls1 = PLSRegression(n_components=7)\n",
    "pls1.fit(notes, y)\n",
    "\n"
   ]
  },
  {
   "cell_type": "markdown",
   "metadata": {},
   "source": [
    "Les donnees sont principalement construites avec une relation lineaire entre trois variables de X et Y, plus un bruit. Les differentes notes utilisees pour la prédiction sont, pour certaines, correlees entre elles. On distingue notamment trois blocs de notes correlees entre elles, dont deux en lien avec les variables qui expliquent y. \n",
    "On s'attend alors a retrouver ces relation dans le 1er vecteur propre du projecteur de X. Il serait logique que le bloc du milieu de ressorte pas, car il n'a pas d'influence sur les y.\n"
   ]
  },
  {
   "cell_type": "markdown",
   "metadata": {},
   "source": [
    "##### QUESTION 2 : \n",
    "- Quelle est la signification de pls1.x_rotations_. \n",
    "- Comment interpretez vous ses valeurs ?\n"
   ]
  },
  {
   "cell_type": "code",
   "execution_count": 8,
   "metadata": {},
   "outputs": [
    {
     "data": {
      "image/png": "[encoded data removed]",
      "text/plain": [
       "<Figure size 432x288 with 1 Axes>"
      ]
     },
     "metadata": {
      "needs_background": "light"
     },
     "output_type": "display_data"
    }
   ],
   "source": [
    "\n",
    "plt.plot(pls1.x_rotations_[:,0],'r-')\n",
    "plt.plot(pls1.x_rotations_[:,1],'g--')\n",
    "plt.plot(pls1.x_rotations_[:,2],'b.')\n",
    "plt.show()\n"
   ]
  },
  {
   "cell_type": "markdown",
   "metadata": {},
   "source": [
    "On remarque que  pls1.x_rotations donne l'ensemble des vecteurs de projection de X vers un espace de dimension inferieur avec :\n",
    "- les vecteurs sont orthonormaux\n",
    "- Ils maximisent la covariance avec les projections de Y \n",
    "\n",
    "Vu que la dimension des observations de sortie y est 1 ici,  pls1.y_rotations_ represente un seul vecteur propre en dimension 1 array([1.]). Nous n'avons en effet pas besoin de projeter Y, vers un sous espace commun (cf pls2) !\n",
    "\n",
    "\n",
    "A propos des projecteurs :\n",
    "- pls1.x_rotations_[:,0] mets en evidence les variables de X liées à y, ainsi que les variables corrélées avec ces dernières.\n",
    "- pls1.x_rotations_[:,1] mets en opposition les deux blocs de variables liés aux valeurs de y.\n",
    "- pls1.x_rotations_[:,2] ne capture que du bruit."
   ]
  },
  {
   "cell_type": "markdown",
   "metadata": {},
   "source": [
    "##### QUESTION 3 : \n",
    "- Observez les projections de X sur les deux premiers axes de pls1.x_rotations_ . \n",
    "- Pouvez-vous definir des profils etudiants a partir de cette projection de X ?\n"
   ]
  },
  {
   "cell_type": "code",
   "execution_count": 11,
   "metadata": {},
   "outputs": [
    {
     "name": "stdout",
     "output_type": "stream",
     "text": [
      "[[11.9 10.6 13.  ... 12.8  8.4  6.3]\n",
      " [14.7  9.9 12.5 ... 16.3 11.   7.6]\n",
      " [ 8.9 10.1 10.9 ... 14.6  8.8  9.6]\n",
      " ...\n",
      " [13.5 12.3 13.5 ... 11.5  7.5  7.2]\n",
      " [12.2 12.3 11.9 ... 14.  11.8  9.2]\n",
      " [11.8 12.7 11.8 ... 11.3  6.7  8.8]]\n",
      "[[ 0.605518   -0.23223738]\n",
      " [ 0.3001136   0.53066793]\n",
      " [ 0.37004835  0.39318985]\n",
      " [ 0.05415272  0.16323428]\n",
      " [ 0.04607552  0.10266366]\n",
      " [ 0.39991233 -0.57599028]\n",
      " [ 0.49128268 -0.47061255]]\n",
      "Etudiant 0\n",
      " -> notes =  [11.9 10.6 13.  11.9 12.8  8.4  6.3]\n",
      " -> notes projetees =  [22.89  3.43]\n",
      "Etudiant 1\n",
      " -> notes =  [14.7  9.9 12.5 13.  16.3 11.   7.6]\n",
      " -> notes projetees =  [26.09  0.64]\n",
      "Etudiant 2\n",
      " -> notes =  [ 8.9 10.1 10.9 14.5 14.6  8.8  9.6]\n",
      " -> notes projetees =  [22.15  1.86]\n",
      "Etudiant 3\n",
      " -> notes =  [11.5  9.2  8.5 10.7  6.9  8.9  7.9]\n",
      " -> notes projetees =  [21.21 -0.84]\n",
      "Etudiant 4\n",
      " -> notes =  [ 9.5  9.3 12.1 14.9 14.6  6.2  6. ]\n",
      " -> notes projetees =  [19.93  5.02]\n",
      "Etudiant 5\n",
      " -> notes =  [ 8.9  9.2 11.5 11.6 10.   8.7  7.2]\n",
      " -> notes projetees =  [20.51  1.86]\n",
      "Etudiant 6\n",
      " -> notes =  [10.5  8.9 10.3 11.6 11.  11.5  4.1]\n",
      " -> notes projetees =  [20.59  0.8 ]\n",
      "Etudiant 7\n",
      " -> notes =  [ 8.5 11.4 13.  10.6 10.1 11.2 10.9]\n",
      " -> notes projetees =  [24.25  0.37]\n",
      "Etudiant 8\n",
      " -> notes =  [14.7 12.  12.8 13.5  9.9  9.8  8. ]\n",
      " -> notes projetees =  [26.28  1.8 ]\n",
      "Etudiant 9\n",
      " -> notes =  [12.1  9.6 12.6 14.7 13.5  7.6  5.7]\n",
      " -> notes projetees =  [22.13  3.96]\n"
     ]
    }
   ],
   "source": [
    "\n",
    "ProjNotes=np.dot(notes,pls1.x_rotations_[:,[0,1]])\n",
    "\n",
    "\n",
    "for i in range(10):\n",
    "    print('Etudiant '+str(i))\n",
    "    print(' -> notes = ', np.round(notes[i,:],2))\n",
    "    print(' -> notes projetees = ', np.round(ProjNotes[i,:],2))\n",
    "\n",
    "    "
   ]
  },
  {
   "cell_type": "code",
   "execution_count": null,
   "metadata": {},
   "outputs": [],
   "source": []
  },
  {
   "cell_type": "code",
   "execution_count": null,
   "metadata": {},
   "outputs": [],
   "source": []
  }
 ],
 "metadata": {
  "anaconda-cloud": {},
  "kernelspec": {
   "display_name": "Python 3 (ipykernel)",
   "language": "python",
   "name": "python3"
  },
  "language_info": {
   "codemirror_mode": {
    "name": "ipython",
    "version": 3
   },
   "file_extension": ".py",
   "mimetype": "text/x-python",
   "name": "python",
   "nbconvert_exporter": "python",
   "pygments_lexer": "ipython3",
   "version": "3.8.10"
  }
 },
 "nbformat": 4,
 "nbformat_minor": 4
}
